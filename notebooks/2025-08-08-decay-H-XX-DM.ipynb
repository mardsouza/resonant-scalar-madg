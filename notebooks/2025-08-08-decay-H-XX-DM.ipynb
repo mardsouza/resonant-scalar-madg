{
 "cells": [
  {
   "cell_type": "markdown",
   "metadata": {},
   "source": [
    "# syHEP code for $h \\to \\chi\\chi$ (s-channel) amplitude and total cross-section"
   ]
  },
  {
   "cell_type": "code",
   "execution_count": 8,
   "metadata": {},
   "outputs": [],
   "source": [
    "#!python -m pip install -r ../requirements.txt"
   ]
  },
  {
   "cell_type": "code",
   "execution_count": 9,
   "metadata": {},
   "outputs": [],
   "source": [
    "import sympy as sy"
   ]
  },
  {
   "cell_type": "code",
   "execution_count": 10,
   "metadata": {},
   "outputs": [],
   "source": [
    "import sys,os\n",
    "sys.path.append('..')\n",
    "import syHEP.src.syhep as hep\n",
    "\n",
    "from syHEP.src.syhep.extras import Amplitude_schannel, decay_Gamma\n",
    "\n",
    "from app.modules.functions import find_symbol\n"
   ]
  },
  {
   "cell_type": "code",
   "execution_count": 11,
   "metadata": {},
   "outputs": [],
   "source": [
    "import numpy as np\n",
    "import pandas as pd\n",
    "import matplotlib.pyplot as plt\n"
   ]
  },
  {
   "cell_type": "markdown",
   "metadata": {},
   "source": [
    "# Steps for SYMPY calculation"
   ]
  },
  {
   "attachments": {},
   "cell_type": "markdown",
   "metadata": {},
   "source": [
    "---\n",
    "\n",
    "## SM Analogous Process: $ H(q) \\to W^-_0(k_1)+W^+_0(k_2)$"
   ]
  },
  {
   "attachments": {},
   "cell_type": "markdown",
   "metadata": {},
   "source": [
    "### Symbols, vectors and constants\n"
   ]
  },
  {
   "cell_type": "code",
   "execution_count": 12,
   "metadata": {},
   "outputs": [],
   "source": [
    "## latex symbols doesn't need \"$\" \n",
    "theta, phi = sy.symbols('theta phi', real=True, positive=True)\n",
    "\n",
    "s, t, u, p, s0, t0, u0, Gamma = sy.symbols('s t u p s_0 t_0 u_0 Gamma', real=True, positive=True)\n",
    "\n",
    "Mmed, mf= sy.symbols(r'M_{med} m_f', real=True, positive=True)\n",
    "\n",
    "## Extra terms\n",
    "\n",
    "Etot, E1, E2, m1, m2 = sy.symbols(r'E_tot E_1 E_2 m_1 m_2', real=True, positive=True)\n",
    "\n",
    "# Electroweak constants\n",
    "#cv, ca, gz, gw, thetaw, gz_theta, gw_theta = symbols(r'c_v c_a g_Z g_W theta_W g_Z_theta g_W_theta', real=True, positive=True )\n",
    "\n",
    "\n",
    "#E1, E2, E3, E4, theta2, theta3, Mi, Mf, gx = symbols(r'E_1  E_2 E_3 E_4 theta_2 theta_3 M_i M_f g_{\\chi}', real=True, positive=True)\n"
   ]
  },
  {
   "attachments": {},
   "cell_type": "markdown",
   "metadata": {},
   "source": [
    "---\n",
    "# Decay width Z -> WW"
   ]
  },
  {
   "cell_type": "code",
   "execution_count": 13,
   "metadata": {},
   "outputs": [],
   "source": [
    "## Por conservação de momento de uma partícula decaindo em repouso, teremos que:\n",
    "# k = (M, 0, 0, 0)\n",
    "# M = E1 + E2\n",
    "# E2 = M - E1\n",
    "\n",
    "# Initial particle at rest frame\n",
    "k = sy.Matrix([0,             Mmed,  0,      0])\n",
    "\n",
    "\n",
    "# Final states\n",
    "p3 = sy.Matrix([sy.sqrt(s)/2, mf,  theta,  0])\n",
    "p4 = sy.Matrix([sy.sqrt(s)/2, mf, -theta,  sy.pi])\n"
   ]
  },
  {
   "cell_type": "code",
   "execution_count": 16,
   "metadata": {},
   "outputs": [
    {
     "data": {
      "text/latex": [
       "$\\displaystyle 2 i g_{s\\psi}$"
      ],
      "text/plain": [
       "2*I*g_s\\psi"
      ]
     },
     "metadata": {},
     "output_type": "display_data"
    },
    {
     "data": {
      "text/latex": [
       "$\\displaystyle 2 i g_{s\\psi}$"
      ],
      "text/plain": [
       "2*I*g_s\\psi"
      ]
     },
     "metadata": {},
     "output_type": "display_data"
    },
    {
     "data": {
      "text/latex": [
       "$\\displaystyle 2 i g_{s\\psi}$"
      ],
      "text/plain": [
       "2*I*g_s\\psi"
      ]
     },
     "metadata": {},
     "output_type": "display_data"
    },
    {
     "data": {
      "text/latex": [
       "$\\displaystyle 2 i g_{s\\psi}$"
      ],
      "text/plain": [
       "2*I*g_s\\psi"
      ]
     },
     "metadata": {},
     "output_type": "display_data"
    }
   ],
   "source": [
    "tems_func = decay_Gamma('scalar', 'phibar', p3, 'phi', p4) \n",
    "\n",
    "# Display no null the terms\n",
    "for expr in tems_func:\n",
    "    if expr != 0:\n",
    "        display(expr)"
   ]
  },
  {
   "cell_type": "code",
   "execution_count": 18,
   "metadata": {},
   "outputs": [],
   "source": [
    "def get_amp_squared_decay(terms: list):\n",
    "    \n",
    "\n",
    "    beta, xi, lamb = sy.symbols(r'beta xi lambda', real=True, positive=True)\n",
    "    \n",
    "\n",
    "    sum_terms = 0\n",
    "    for T in terms:\n",
    "        T = T.subs(sy.sqrt(- sy.sqrt(s) + 2*mf), beta)\n",
    "        T = T.subs(sy.sqrt(s - 4*mf**2), lamb)\n",
    "        sum_terms += T  * sy.conjugate(T)\n",
    "\n",
    "    # Summing over outgoing and averaging over incoming helicities we thus get for the average of squared amplitudes\n",
    "    squared_result = sum_terms #/ 4 # Averaging over the incoming helicities\n",
    "\n",
    "    \n",
    "    # Reverse substitutions\n",
    "    squared_result = squared_result.subs(beta, sy.sqrt(- sy.sqrt(s) + 2*mf))\n",
    "    squared_result = squared_result.subs(lamb, sy.sqrt(s - 4*mf**2))\n",
    "\n",
    "    squared_result = sy.nsimplify(sy.expand(squared_result))\n",
    "    # last simplification\n",
    "    #amp_squared = simplify(squared_result)\n",
    "    #amp_squared = collect(collect(amp_squared, s), mf)\n",
    "\n",
    "    return sy.simplify(squared_result)"
   ]
  },
  {
   "cell_type": "code",
   "execution_count": 26,
   "metadata": {},
   "outputs": [],
   "source": [
    "def get_complete_gamma_decay(amp_squared):\n",
    "    # The kinematic pre-factor for the decay is  \n",
    "    prefact_decay = (1/(16*sy.pi*Mmed))*sy.sqrt(1 - (mf + mf)**2/Mmed**2)*sy.sqrt(1 - (mf - mf)**2/Mmed**2)\n",
    "    # Portanto, teremos que \n",
    "\n",
    "    Gamma_expr = prefact_decay  * amp_squared #/4#/ (12) # averagin over the initial states\n",
    "\n",
    "    return Gamma_expr"
   ]
  },
  {
   "cell_type": "code",
   "execution_count": 20,
   "metadata": {},
   "outputs": [],
   "source": [
    "MW, v, MH, MZ, lamb, GF, gw, e, thetaw = sy.symbols(r'M_W \\nu M_H M_Z \\lambda G_F g_W e theta_W', real=True, positive=True)"
   ]
  },
  {
   "cell_type": "markdown",
   "metadata": {},
   "source": [
    "---"
   ]
  },
  {
   "cell_type": "markdown",
   "metadata": {},
   "source": [
    "## Scalar DM"
   ]
  },
  {
   "cell_type": "code",
   "execution_count": null,
   "metadata": {},
   "outputs": [],
   "source": [
    "tems_func"
   ]
  },
  {
   "cell_type": "code",
   "execution_count": null,
   "metadata": {},
   "outputs": [
    {
     "data": {
      "text/latex": [
       "$\\displaystyle \\frac{g_{s\\psi}^{2} \\sqrt{1 - \\frac{4 m_{f}^{2}}{M_{med}^{2}}}}{\\pi M_{med}}$"
      ],
      "text/plain": [
       "g_s\\psi**2*sqrt(1 - 4*m_f**2/M_{med}**2)/(pi*M_{med})"
      ]
     },
     "execution_count": 29,
     "metadata": {},
     "output_type": "execute_result"
    }
   ],
   "source": [
    "amp_squared = get_amp_squared_decay(tems_func)\n",
    "scalar_decay_S = get_complete_gamma_decay(amp_squared)\n",
    "scalar_decay_S = scscalar_decay_Salar_decay_s.subs(theta, sy.pi).subs(s, Mmed**2)\n",
    "scalar_decay_S"
   ]
  },
  {
   "cell_type": "markdown",
   "metadata": {},
   "source": [
    "## Fermion DM"
   ]
  },
  {
   "cell_type": "code",
   "execution_count": 32,
   "metadata": {},
   "outputs": [
    {
     "data": {
      "text/latex": [
       "$\\displaystyle \\frac{g_{s\\psi}^{2} \\left(M_{med}^{2} - 4 m_{f}^{2}\\right)^{\\frac{3}{2}}}{16 \\pi M_{med}^{2}}$"
      ],
      "text/plain": [
       "g_s\\psi**2*(M_{med}**2 - 4*m_f**2)**(3/2)/(16*pi*M_{med}**2)"
      ]
     },
     "execution_count": 32,
     "metadata": {},
     "output_type": "execute_result"
    }
   ],
   "source": [
    "# Get terms\n",
    "tems_func = decay_Gamma('scalar', 'ubar', p3, 'v', p4) \n",
    "\n",
    "# get amp squared\n",
    "amp_squared = get_amp_squared_decay(tems_func)\n",
    "scalar_decay_F = get_complete_gamma_decay(amp_squared)\n",
    "scalar_decay_F = scalar_decay_F.subs(theta, sy.pi).subs(s, Mmed**2)\n",
    "sy.simplify(scalar_decay_F)"
   ]
  },
  {
   "cell_type": "markdown",
   "metadata": {},
   "source": [
    "## Vector DM"
   ]
  },
  {
   "cell_type": "code",
   "execution_count": 34,
   "metadata": {},
   "outputs": [
    {
     "data": {
      "text/latex": [
       "$\\displaystyle \\frac{g_{s\\psi}^{2} \\sqrt{M_{med}^{2} - 4 m_{f}^{2}} \\left(M_{med}^{4} - 8 M_{med}^{2} m_{f}^{2} + 16 m_{f}^{4}\\right)}{64 \\pi M_{med}^{2} m_{f}^{4}}$"
      ],
      "text/plain": [
       "g_s\\psi**2*sqrt(M_{med}**2 - 4*m_f**2)*(M_{med}**4 - 8*M_{med}**2*m_f**2 + 16*m_f**4)/(64*pi*M_{med}**2*m_f**4)"
      ]
     },
     "execution_count": 34,
     "metadata": {},
     "output_type": "execute_result"
    }
   ],
   "source": [
    "# Get terms\n",
    "tems_func = decay_Gamma('scalar', 'polbar', -p3, 'pol', -p4) \n",
    "\n",
    "# get amp squared\n",
    "amp_squared = get_amp_squared_decay(tems_func)\n",
    "scalar_decay_V = get_complete_gamma_decay(amp_squared)\n",
    "scalar_decay_V = scalar_decay_V.subs(theta, sy.pi).subs(s, Mmed**2)\n",
    "sy.simplify(scalar_decay_V)"
   ]
  },
  {
   "cell_type": "code",
   "execution_count": null,
   "metadata": {},
   "outputs": [],
   "source": [
    "## que é a mesma expressão que tinhamos pro decaimento do fermion e também de outros processos, o que significa que a lógica do código esta correta. Basta avaliar mais cuidadosamente a cinemática definida nos vetores iniciais \n",
    "\n"
   ]
  },
  {
   "cell_type": "code",
   "execution_count": null,
   "metadata": {},
   "outputs": [],
   "source": []
  },
  {
   "cell_type": "code",
   "execution_count": 20,
   "metadata": {},
   "outputs": [
    {
     "name": "stdout",
     "output_type": "stream",
     "text": [
      "def _lambdifygenerated(s, M_med, m_f, Dummy_22):\n",
      "    return (1/192)*Dummy_22**2*(M_med**2 - 4*m_f**2)**(3/2)/(pi*m_f**2)\n",
      "\n"
     ]
    }
   ],
   "source": [
    "# Obtendo o código fonte da função\n",
    "codigo_fonte = {}\n",
    "\n",
    "\n",
    "#codigo_fonte['SM'] = sigma_SM_func\n",
    "codigo_fonte['DM'] = Gamma_func\n",
    "#codigo_fonte['DM_noqq'] = sigma_DM_noqq_func\n",
    "\n",
    "import inspect\n",
    "for name, func in codigo_fonte.items():\n",
    "\n",
    "    print(inspect.getsource(func))"
   ]
  },
  {
   "cell_type": "code",
   "execution_count": 121,
   "metadata": {},
   "outputs": [],
   "source": [
    "#Gamma_vec = nsimplify(expand(Gamma_vec))\n",
    "\n",
    "## Some functions to give a pretier expression\n",
    "Gamma_vec =  together((nsimplify(expand(Gamma_vec))))"
   ]
  },
  {
   "cell_type": "code",
   "execution_count": 128,
   "metadata": {},
   "outputs": [
    {
     "data": {
      "image/png": "[encoded data removed]",
      "text/latex": [
       "$\\displaystyle \\frac{g_{\\chi}^{2} s \\sqrt{\\left(M_{Z^\\prime}\\right)^{2} - 4 m_{f}^{2}} \\left(- \\left(M_{Z^\\prime}\\right)^{2} - 4 m_{f}^{2} + 2 s - 2 \\sqrt{- \\left(M_{Z^\\prime}\\right)^{2} + s} \\sqrt{- 4 m_{f}^{2} + s}\\right)}{16 \\pi \\left(M_{Z^\\prime}\\right)^{2} m_{f}^{2}}$"
      ],
      "text/plain": [
       "               ___________________________ ⎛                                  \n",
       "        2     ╱              2          2  ⎜               2          2       \n",
       "g_{\\chi} ⋅s⋅╲╱  M_{Z__\\prime}  - 4⋅m_{f}  ⋅⎝- M_{Z__\\prime}  - 4⋅m_{f}  + 2⋅s \n",
       "──────────────────────────────────────────────────────────────────────────────\n",
       "                                                                     2      2 \n",
       "                                                   16⋅π⋅M_{Z__\\prime} ⋅m_{f}  \n",
       "\n",
       "       ______________________    ________________⎞\n",
       "      ╱                2        ╱          2     ⎟\n",
       "- 2⋅╲╱  - M_{Z__\\prime}  + s ⋅╲╱  - 4⋅m_{f}  + s ⎠\n",
       "──────────────────────────────────────────────────\n",
       "                                                  \n",
       "                                                  "
      ]
     },
     "execution_count": 128,
     "metadata": {},
     "output_type": "execute_result"
    }
   ],
   "source": [
    "together(collect(expand(Gamma_vec), s )).subs(xi, sqrt(MZp **2 - 4))"
   ]
  },
  {
   "attachments": {},
   "cell_type": "markdown",
   "metadata": {},
   "source": [
    "###  "
   ]
  }
 ],
 "metadata": {
  "kernelspec": {
   "display_name": "py_phenoenv",
   "language": "python",
   "name": "python3"
  },
  "language_info": {
   "codemirror_mode": {
    "name": "ipython",
    "version": 3
   },
   "file_extension": ".py",
   "mimetype": "text/x-python",
   "name": "python",
   "nbconvert_exporter": "python",
   "pygments_lexer": "ipython3",
   "version": "3.10.17"
  },
  "orig_nbformat": 4
 },
 "nbformat": 4,
 "nbformat_minor": 2
}
